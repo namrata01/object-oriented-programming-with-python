{
 "cells": [
  {
   "cell_type": "code",
   "execution_count": 7,
   "metadata": {},
   "outputs": [
    {
     "name": "stdout",
     "output_type": "stream",
     "text": [
      "1\n",
      "0\n"
     ]
    }
   ],
   "source": [
    "class A:\n",
    "    def __init__(self, i = 1):\n",
    "        self.i = i\n",
    "class B(A):\n",
    "    def __init__(self, j = 0):\n",
    "        super().__init__()\n",
    "        self.j = j\n",
    "def main():\n",
    "    b = B()\n",
    "    print(b.i)\n",
    "    print(b.j)\n",
    "main()"
   ]
  },
  {
   "cell_type": "code",
   "execution_count": 8,
   "metadata": {},
   "outputs": [
    {
     "name": "stdout",
     "output_type": "stream",
     "text": [
      "4\n",
      "0\n"
     ]
    }
   ],
   "source": [
    "class A:\n",
    "    def __init__(self, i = 0):\n",
    "        self.i = i\n",
    "    def m1(self):\n",
    "        self.i += 1\n",
    "class B(A):\n",
    "    def __init__(self, j = 0):\n",
    "        super().__init__(3)\n",
    "        self.j = j\n",
    "    def m1(self):\n",
    "        self.i += 1\n",
    "def main():\n",
    "    b = B()\n",
    "    b.m1()\n",
    "    print(b.i)\n",
    "    print(b.j)\n",
    "main() #"
   ]
  },
  {
   "cell_type": "code",
   "execution_count": 10,
   "metadata": {},
   "outputs": [
    {
     "name": "stdout",
     "output_type": "stream",
     "text": [
      "8\n"
     ]
    }
   ],
   "source": [
    "class A:\n",
    "    def __init__(self, i = 0):\n",
    "        self.i = i\n",
    "    def m1(self):\n",
    "        self.i += 1\n",
    "    def __str__(self):\n",
    "        return str(self.i)\n",
    "\n",
    "x = A(8)\n",
    "print(x)"
   ]
  },
  {
   "cell_type": "code",
   "execution_count": 16,
   "metadata": {},
   "outputs": [
    {
     "name": "stdout",
     "output_type": "stream",
     "text": [
      "B's __init__() invoked\n",
      "A's __init__() invoked\n"
     ]
    }
   ],
   "source": [
    "class A:\n",
    "    #def __new__(self):\n",
    "        #self.__init__(self)\n",
    "        #print(\"A's __new__() invoked\")\n",
    "    def __init__(self):\n",
    "        print(\"A's __init__() invoked\")\n",
    "        \n",
    "class B(A):\n",
    "    #def __new__(self):\n",
    "        #self.__init__(self)\n",
    "        #print(\"B's __new__() invoked\")\n",
    "    def __init__(self):\n",
    "        print(\"B's __init__() invoked\")\n",
    "\n",
    "def main():\n",
    "    b = B()\n",
    "    a = A()\n",
    "    \n",
    "main() # Call the main function"
   ]
  },
  {
   "cell_type": "code",
   "execution_count": 19,
   "metadata": {},
   "outputs": [
    {
     "name": "stdout",
     "output_type": "stream",
     "text": [
      "A\n",
      "A\n"
     ]
    }
   ],
   "source": [
    "class A:\n",
    "    def __init__(self, i):\n",
    "        self.i = i\n",
    "\n",
    "    def __str__(self):\n",
    "        return \"A\"\n",
    "\n",
    "class B(A):\n",
    "    def __init__(self, i, j):\n",
    "        super().__init__(i)\n",
    "        self.j = j\n",
    "\n",
    "def main():\n",
    "    b = B(1, 2)\n",
    "    a = A(1)\n",
    "    print(a)\n",
    "    print(b)\n",
    "    \n",
    "main()"
   ]
  },
  {
   "cell_type": "code",
   "execution_count": 25,
   "metadata": {},
   "outputs": [
    {
     "name": "stdout",
     "output_type": "stream",
     "text": [
      "True\n"
     ]
    }
   ],
   "source": [
    "class A:\n",
    "    def __init__(self, i):\n",
    "        self.i = i\n",
    "    def __str__(self):\n",
    "        return \"A\"\n",
    "    def __eq__(self, other):\n",
    "        return self.i == other.i\n",
    "\n",
    "def main():\n",
    "    x = A(1)\n",
    "    y = A(1)\n",
    "    print(x == y)\n",
    "\n",
    "main() # Call the main function"
   ]
  },
  {
   "cell_type": "code",
   "execution_count": 14,
   "metadata": {},
   "outputs": [
    {
     "name": "stdout",
     "output_type": "stream",
     "text": [
      "578392627\n"
     ]
    }
   ],
   "source": [
    "def fibonacci(num1,num2,i,n):\n",
    "    if (i>=10**6):\n",
    "        return\n",
    "    if (i==n):\n",
    "        print(num1%1000000007)\n",
    "        return\n",
    "    fibonacci(num2%1000000007,(num1+num2)%1000000007,i=i+1,n=n)\n",
    "\n",
    "    \n",
    "n1=0\n",
    "n2=1\n",
    "i=0\n",
    "fibonacci(n1,n2,i,963)"
   ]
  },
  {
   "cell_type": "code",
   "execution_count": null,
   "metadata": {
    "collapsed": true
   },
   "outputs": [],
   "source": [
    "def fibonacci(num1,num2):\n",
    "    if (num1>=100):\n",
    "        return\n",
    "    print(num1)\n",
    "    fibonacci(num1=num2,num2=num1+num2)\n",
    "    \n",
    "i=0\n",
    "j=1\n",
    "fibonacci(i,j)\n",
    "    "
   ]
  }
 ],
 "metadata": {
  "kernelspec": {
   "display_name": "Python 3",
   "language": "python",
   "name": "python3"
  },
  "language_info": {
   "codemirror_mode": {
    "name": "ipython",
    "version": 3
   },
   "file_extension": ".py",
   "mimetype": "text/x-python",
   "name": "python",
   "nbconvert_exporter": "python",
   "pygments_lexer": "ipython3",
   "version": "3.6.1"
  }
 },
 "nbformat": 4,
 "nbformat_minor": 2
}
